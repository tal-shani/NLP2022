{
 "cells": [
  {
   "cell_type": "code",
   "execution_count": null,
   "id": "133bd83f",
   "metadata": {
    "pycharm": {
     "name": "#%%\n"
    }
   },
   "outputs": [],
   "source": [
    "import re\n",
    "import emoji\n",
    "import langid\n",
    "import random\n",
    "import pandas as pd\n",
    "import nlpaug.augmenter.word as naw"
   ]
  },
  {
   "cell_type": "code",
   "execution_count": null,
   "id": "c50b5e6b",
   "metadata": {
    "pycharm": {
     "name": "#%%\n"
    }
   },
   "outputs": [],
   "source": [
    "back_translation_aug = naw.BackTranslationAug(\n",
    "    from_model_name='tiedeman/opus-mt-he-en', \n",
    "    to_model_name='tiedeman/opus-mt-en-he'\n",
    ")"
   ]
  },
  {
   "cell_type": "code",
   "execution_count": null,
   "id": "f8cff276",
   "metadata": {
    "pycharm": {
     "name": "#%%\n"
    }
   },
   "outputs": [],
   "source": [
    "ALL_EMOJIS = list(reversed(sorted(emoji.EMOJI_DATA.keys(), key=len)))\n",
    "\n",
    "REG_HASHTAG = re.compile('(#[a-zA-Z0-9]+)?')\n",
    "REG_USERNAME = re.compile('(@[a-zA-Z0-9\\-_]+)')\n",
    "\n",
    "def clean_tweet(tweet):\n",
    "    cleaned = tweet.replace('&amp;', '&')\n",
    "    cleaned = re.sub(REG_USERNAME, '', cleaned)\n",
    "    cleaned = cleaned.replace(' , ', ', ')\n",
    "    cleaned = cleaned.replace(' &  ', ' ')\n",
    "    cleaned = cleaned.replace('  & ', ' ')\n",
    "    cleaned = cleaned.replace('  ', ' ')\n",
    "    cleaned = cleaned.replace(',,', ',')\n",
    "    cleaned = cleaned.replace('&gt;', '')\n",
    "    \n",
    "    for e in ALL_EMOJIS:\n",
    "        cleaned = cleaned.replace(e, '')\n",
    "    \n",
    "    cleaned = cleaned.replace('קובי גדעון/לע״מ', '')\n",
    "    cleaned = cleaned.replace('צילום: קובי גדעון, לע״מ', '')\n",
    "    cleaned = cleaned.replace('צילום: קובי גדעון לע\"מ', '')\n",
    "    cleaned = cleaned.replace('צילום: קובי גדעון/ לע״מ', '')\n",
    "    cleaned = cleaned.strip()\n",
    "    \n",
    "    return cleaned\n",
    "\n",
    "\n",
    "def clean_tweets():\n",
    "    tweets = []\n",
    "    \n",
    "    tdf = pd.read_csv('dataset/yairlapid_tweets.csv')\n",
    "    \n",
    "    for tweet in tdf['tweets']:\n",
    "        nt = clean_tweet(tweet)\n",
    "        if langid.classify(nt)[0] == 'he':\n",
    "            tweets.append(nt)\n",
    "            \n",
    "    print(f'successfuly cleaned {len(tweets)} tweets')\n",
    "    return tweets\n",
    "\n",
    "\n",
    "def augment_tweets(tweets):\n",
    "    \n",
    "    aug_swap = naw.RandomWordAug(action=\"swap\")\n",
    "    aug_delete = naw.RandomWordAug(action=\"delete\")\n",
    "\n",
    "    tweets_aug_swap = aug_swap.augment(tweets)\n",
    "    tweets_aug_del = aug_delete.augment(tweets)\n",
    "    tweets_aug_translate = back_translation_aug.augment(tweets)\n",
    "\n",
    "    dataset = tweets + tweets_aug_swap + tweets_aug_del + tweets_aug_translate\n",
    "    random.shuffle(dataset)\n",
    "\n",
    "    print(f'augmented dataset into {len(dataset)} tweets')\n",
    "\n",
    "    new_tdf = pd.DataFrame(dataset, columns=['tweets'])\n",
    "    new_tdf.to_csv('cleaned_tweets.csv', encoding='utf-8-sig', index=False)\n",
    "    \n",
    "def main():\n",
    "    cleaned_tweets = clean_tweets()\n",
    "    new_dataset = augment_tweets(cleaned_tweets)\n",
    "    return new_dataset\n",
    "\n",
    "dataset = main()"
   ]
  }
 ],
 "metadata": {
  "kernelspec": {
   "display_name": "Python 3 (ipykernel)",
   "language": "python",
   "name": "python3"
  },
  "language_info": {
   "codemirror_mode": {
    "name": "ipython",
    "version": 3
   },
   "file_extension": ".py",
   "mimetype": "text/x-python",
   "name": "python",
   "nbconvert_exporter": "python",
   "pygments_lexer": "ipython3",
   "version": "3.8.3"
  }
 },
 "nbformat": 4,
 "nbformat_minor": 5
}
